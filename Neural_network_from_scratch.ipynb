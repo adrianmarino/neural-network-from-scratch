{
  "nbformat": 4,
  "nbformat_minor": 0,
  "metadata": {
    "colab": {
      "name": "Neural network from scratch.ipynb",
      "provenance": [],
      "collapsed_sections": [],
      "authorship_tag": "ABX9TyN68IgMnZ8eJy/Cxo2zN0o9",
      "include_colab_link": true
    },
    "kernelspec": {
      "name": "python3",
      "display_name": "Python 3"
    },
    "widgets": {
      "application/vnd.jupyter.widget-state+json": {
        "9f22261b24fd46f3b3eec44d4f79c1fc": {
          "model_module": "@jupyter-widgets/controls",
          "model_name": "HBoxModel",
          "state": {
            "_view_name": "HBoxView",
            "_dom_classes": [],
            "_model_name": "HBoxModel",
            "_view_module": "@jupyter-widgets/controls",
            "_model_module_version": "1.5.0",
            "_view_count": null,
            "_view_module_version": "1.5.0",
            "box_style": "",
            "layout": "IPY_MODEL_5dcf6af869b9456f8bf546dbd8536f31",
            "_model_module": "@jupyter-widgets/controls",
            "children": [
              "IPY_MODEL_be8b5229216c49f7a1fb5b32ca1115c5",
              "IPY_MODEL_26f7fcc73a674f09bdc11da87d1b92cf"
            ]
          }
        },
        "5dcf6af869b9456f8bf546dbd8536f31": {
          "model_module": "@jupyter-widgets/base",
          "model_name": "LayoutModel",
          "state": {
            "_view_name": "LayoutView",
            "grid_template_rows": null,
            "right": null,
            "justify_content": null,
            "_view_module": "@jupyter-widgets/base",
            "overflow": null,
            "_model_module_version": "1.2.0",
            "_view_count": null,
            "flex_flow": null,
            "width": null,
            "min_width": null,
            "border": null,
            "align_items": null,
            "bottom": null,
            "_model_module": "@jupyter-widgets/base",
            "top": null,
            "grid_column": null,
            "overflow_y": null,
            "overflow_x": null,
            "grid_auto_flow": null,
            "grid_area": null,
            "grid_template_columns": null,
            "flex": null,
            "_model_name": "LayoutModel",
            "justify_items": null,
            "grid_row": null,
            "max_height": null,
            "align_content": null,
            "visibility": null,
            "align_self": null,
            "height": null,
            "min_height": null,
            "padding": null,
            "grid_auto_rows": null,
            "grid_gap": null,
            "max_width": null,
            "order": null,
            "_view_module_version": "1.2.0",
            "grid_template_areas": null,
            "object_position": null,
            "object_fit": null,
            "grid_auto_columns": null,
            "margin": null,
            "display": null,
            "left": null
          }
        },
        "be8b5229216c49f7a1fb5b32ca1115c5": {
          "model_module": "@jupyter-widgets/controls",
          "model_name": "IntProgressModel",
          "state": {
            "_view_name": "ProgressView",
            "style": "IPY_MODEL_be7ebd8319724a4cab8b5fba11d7e0b3",
            "_dom_classes": [],
            "description": "Loss: 0.2521779738565935: 100%",
            "_model_name": "IntProgressModel",
            "bar_style": "success",
            "max": 100,
            "_view_module": "@jupyter-widgets/controls",
            "_model_module_version": "1.5.0",
            "value": 100,
            "_view_count": null,
            "_view_module_version": "1.5.0",
            "orientation": "horizontal",
            "min": 0,
            "description_tooltip": null,
            "_model_module": "@jupyter-widgets/controls",
            "layout": "IPY_MODEL_5b20ff67492e4819bdbbdd77bdd0e4a3"
          }
        },
        "26f7fcc73a674f09bdc11da87d1b92cf": {
          "model_module": "@jupyter-widgets/controls",
          "model_name": "HTMLModel",
          "state": {
            "_view_name": "HTMLView",
            "style": "IPY_MODEL_41d1c33070504b7383215b98375282dc",
            "_dom_classes": [],
            "description": "",
            "_model_name": "HTMLModel",
            "placeholder": "​",
            "_view_module": "@jupyter-widgets/controls",
            "_model_module_version": "1.5.0",
            "value": " 100/100 [00:14&lt;00:00,  7.02Epoch/s]",
            "_view_count": null,
            "_view_module_version": "1.5.0",
            "description_tooltip": null,
            "_model_module": "@jupyter-widgets/controls",
            "layout": "IPY_MODEL_349eb3558dcd4a3bb6fd3d7b4f6bc93e"
          }
        },
        "be7ebd8319724a4cab8b5fba11d7e0b3": {
          "model_module": "@jupyter-widgets/controls",
          "model_name": "ProgressStyleModel",
          "state": {
            "_view_name": "StyleView",
            "_model_name": "ProgressStyleModel",
            "description_width": "initial",
            "_view_module": "@jupyter-widgets/base",
            "_model_module_version": "1.5.0",
            "_view_count": null,
            "_view_module_version": "1.2.0",
            "bar_color": null,
            "_model_module": "@jupyter-widgets/controls"
          }
        },
        "5b20ff67492e4819bdbbdd77bdd0e4a3": {
          "model_module": "@jupyter-widgets/base",
          "model_name": "LayoutModel",
          "state": {
            "_view_name": "LayoutView",
            "grid_template_rows": null,
            "right": null,
            "justify_content": null,
            "_view_module": "@jupyter-widgets/base",
            "overflow": null,
            "_model_module_version": "1.2.0",
            "_view_count": null,
            "flex_flow": null,
            "width": null,
            "min_width": null,
            "border": null,
            "align_items": null,
            "bottom": null,
            "_model_module": "@jupyter-widgets/base",
            "top": null,
            "grid_column": null,
            "overflow_y": null,
            "overflow_x": null,
            "grid_auto_flow": null,
            "grid_area": null,
            "grid_template_columns": null,
            "flex": null,
            "_model_name": "LayoutModel",
            "justify_items": null,
            "grid_row": null,
            "max_height": null,
            "align_content": null,
            "visibility": null,
            "align_self": null,
            "height": null,
            "min_height": null,
            "padding": null,
            "grid_auto_rows": null,
            "grid_gap": null,
            "max_width": null,
            "order": null,
            "_view_module_version": "1.2.0",
            "grid_template_areas": null,
            "object_position": null,
            "object_fit": null,
            "grid_auto_columns": null,
            "margin": null,
            "display": null,
            "left": null
          }
        },
        "41d1c33070504b7383215b98375282dc": {
          "model_module": "@jupyter-widgets/controls",
          "model_name": "DescriptionStyleModel",
          "state": {
            "_view_name": "StyleView",
            "_model_name": "DescriptionStyleModel",
            "description_width": "",
            "_view_module": "@jupyter-widgets/base",
            "_model_module_version": "1.5.0",
            "_view_count": null,
            "_view_module_version": "1.2.0",
            "_model_module": "@jupyter-widgets/controls"
          }
        },
        "349eb3558dcd4a3bb6fd3d7b4f6bc93e": {
          "model_module": "@jupyter-widgets/base",
          "model_name": "LayoutModel",
          "state": {
            "_view_name": "LayoutView",
            "grid_template_rows": null,
            "right": null,
            "justify_content": null,
            "_view_module": "@jupyter-widgets/base",
            "overflow": null,
            "_model_module_version": "1.2.0",
            "_view_count": null,
            "flex_flow": null,
            "width": null,
            "min_width": null,
            "border": null,
            "align_items": null,
            "bottom": null,
            "_model_module": "@jupyter-widgets/base",
            "top": null,
            "grid_column": null,
            "overflow_y": null,
            "overflow_x": null,
            "grid_auto_flow": null,
            "grid_area": null,
            "grid_template_columns": null,
            "flex": null,
            "_model_name": "LayoutModel",
            "justify_items": null,
            "grid_row": null,
            "max_height": null,
            "align_content": null,
            "visibility": null,
            "align_self": null,
            "height": null,
            "min_height": null,
            "padding": null,
            "grid_auto_rows": null,
            "grid_gap": null,
            "max_width": null,
            "order": null,
            "_view_module_version": "1.2.0",
            "grid_template_areas": null,
            "object_position": null,
            "object_fit": null,
            "grid_auto_columns": null,
            "margin": null,
            "display": null,
            "left": null
          }
        }
      }
    }
  },
  "cells": [
    {
      "cell_type": "markdown",
      "metadata": {
        "id": "view-in-github",
        "colab_type": "text"
      },
      "source": [
        "<a href=\"https://colab.research.google.com/github/adrianmarino/neural-network-from-scratch/blob/master/Neural_network_from_scratch.ipynb\" target=\"_parent\"><img src=\"https://colab.research.google.com/assets/colab-badge.svg\" alt=\"Open In Colab\"/></a>"
      ]
    },
    {
      "cell_type": "markdown",
      "metadata": {
        "id": "vT2QpqkIEhY-",
        "colab_type": "text"
      },
      "source": [
        "# Dense Neural Network From Scratch"
      ]
    },
    {
      "cell_type": "code",
      "metadata": {
        "id": "owbgMKA31lKt",
        "colab_type": "code",
        "colab": {}
      },
      "source": [
        "import numpy as np\n",
        "import scipy as sc\n",
        "import matplotlib.pyplot as plt\n",
        "import pandas as pd\n",
        "from sklearn.datasets import make_circles\n",
        "from tqdm.notebook import tqdm\n",
        "from sklearn.model_selection import train_test_split"
      ],
      "execution_count": 0,
      "outputs": []
    },
    {
      "cell_type": "markdown",
      "metadata": {
        "id": "yLd-Yb1f2UCI",
        "colab_type": "text"
      },
      "source": [
        "## 1. Utilities used to plot and inspect (DO NOT READ THIS SECTION INITIALLY, GO TO SECTION 2 :) )\n",
        "\n",
        "In this session only exist utils and helper classes for inspect network structure.**This code is not important to interstand  hwo works a Neural network.** "
      ]
    },
    {
      "cell_type": "code",
      "metadata": {
        "id": "Cql0LiEF2kmn",
        "colab_type": "code",
        "colab": {}
      },
      "source": [
        "def draw_neural_net(ax, left, right, bottom, top, layer_sizes):\n",
        "    '''\n",
        "    Draw a neural network cartoon using matplotilb.\n",
        "    \n",
        "    :usage:\n",
        "        >>> fig = plt.figure(figsize=(12, 12))\n",
        "        >>> draw_neural_net(fig.gca(), .1, .9, .1, .9, [4, 7, 2])\n",
        "    \n",
        "    :parameters:\n",
        "        - ax : matplotlib.axes.AxesSubplot\n",
        "            The axes on which to plot the cartoon (get e.g. by plt.gca())\n",
        "        - left : float\n",
        "            The center of the leftmost node(s) will be placed here\n",
        "        - right : float\n",
        "            The center of the rightmost node(s) will be placed here\n",
        "        - bottom : float\n",
        "            The center of the bottommost node(s) will be placed here\n",
        "        - top : float\n",
        "            The center of the topmost node(s) will be placed here\n",
        "        - layer_sizes : list of int\n",
        "            List of layer sizes, including input and output dimensionality\n",
        "    '''\n",
        "    n_layers = len(layer_sizes)\n",
        "    v_spacing = (top - bottom)/float(max(layer_sizes))\n",
        "    h_spacing = (right - left)/float(len(layer_sizes) - 1)\n",
        "    # Nodes\n",
        "    for n, layer_size in enumerate(layer_sizes):\n",
        "        layer_top = v_spacing*(layer_size - 1)/2. + (top + bottom)/2.\n",
        "        for m in range(layer_size):\n",
        "            position = (n*h_spacing + left, layer_top - m*v_spacing)\n",
        "            circle = plt.Circle(\n",
        "                (n*h_spacing + left, layer_top - m*v_spacing), \n",
        "                v_spacing/4.,\n",
        "                color= 'w',\n",
        "                ec='k',\n",
        "                zorder=4\n",
        "            )\n",
        "            ax.add_artist(circle)\n",
        "            delta = (0.0003, 0.005)\n",
        "            ax.annotate(\n",
        "                'N' if n else 'I', \n",
        "                xy=(position[0] - delta[0], position[1] - delta[1]), \n",
        "                fontsize=10, \n",
        "                ha=\"center\",\n",
        "                zorder=5\n",
        "            )\n",
        "    # Edges\n",
        "    for n, (layer_size_a, layer_size_b) in enumerate(zip(layer_sizes[:-1], layer_sizes[1:])):\n",
        "        layer_top_a = v_spacing*(layer_size_a - 1)/2. + (top + bottom)/2.\n",
        "        layer_top_b = v_spacing*(layer_size_b - 1)/2. + (top + bottom)/2.\n",
        "        for m in range(layer_size_a):\n",
        "            for o in range(layer_size_b):\n",
        "                line = plt.Line2D([n*h_spacing + left, (n + 1)*h_spacing + left],\n",
        "                                  [layer_top_a - m*v_spacing, layer_top_b - o*v_spacing], c='k')\n",
        "                ax.add_artist(line)"
      ],
      "execution_count": 0,
      "outputs": []
    },
    {
      "cell_type": "code",
      "metadata": {
        "id": "NCj8Sz-7_Jvt",
        "colab_type": "code",
        "colab": {}
      },
      "source": [
        "class NetworkPlotter:\n",
        "    def __init__(self, network): self.network = network\n",
        "\n",
        "    def __layers_size(self):\n",
        "        layers = []\n",
        "        for index,layer in enumerate(self.network.layers):\n",
        "            layers.append(layer.inputs)\n",
        "            if index == len(self.network.layers) - 1:\n",
        "               layers.append(layer.neurons)\n",
        "        return layers\n",
        "\n",
        "    def __topology(self):\n",
        "        return pd.DataFrame(\n",
        "             [(l.name(), l.inputs,l.neurons, l.act_fn.name()) for l in self.network.layers],\n",
        "            columns=['Layer', 'Inputs', 'Neurons', 'Activation']\n",
        "        )\n",
        "\n",
        "    def plot(self):\n",
        "        fig = plt.figure(figsize=(14, 14))\n",
        "        ax = fig.gca()\n",
        "        ax.axis('off')\n",
        "        draw_neural_net(ax, .1, .9, .1, .9, self.__layers_size())\n",
        "        fig.savefig('nn.png')\n",
        "        return self.__topology()\n"
      ],
      "execution_count": 0,
      "outputs": []
    },
    {
      "cell_type": "code",
      "metadata": {
        "id": "Gs4A5nRaAij_",
        "colab_type": "code",
        "colab": {}
      },
      "source": [
        "class DatasetPlotter:\n",
        "    def __init__(self, dataset): self.dataset = dataset\n",
        "\n",
        "    def plot(self):\n",
        "        plt.scatter(\n",
        "            self.dataset.X[self.dataset.y[:, 0] == 0, 0], \n",
        "            self.dataset.X[self.dataset.y[:, 0] == 0, 1],\n",
        "            c='skyblue'\n",
        "        )\n",
        "        plt.scatter(\n",
        "            self.dataset.X[self.dataset.y[:, 0] == 1, 0], \n",
        "            self.dataset.X[self.dataset.y[:, 0] == 1, 1],\n",
        "            c='salmon'\n",
        "        )\n",
        "        plt.axis('equal')\n",
        "        plt.grid()\n",
        "        plt.show()"
      ],
      "execution_count": 0,
      "outputs": []
    },
    {
      "cell_type": "code",
      "metadata": {
        "id": "SOt8jYpRA9Gc",
        "colab_type": "code",
        "colab": {}
      },
      "source": [
        "class FunctionPlotter:\n",
        "    def __init__(self, function): self.function = function\n",
        "\n",
        "    def plot(self, x_values):\n",
        "        plt.title(f'{self.function.name()} Function')\n",
        "        plt.grid()\n",
        "        plt.plot(x_values, [self.function.compute(x) for x in x_values])\n",
        "        plt.show()"
      ],
      "execution_count": 0,
      "outputs": []
    },
    {
      "cell_type": "code",
      "metadata": {
        "id": "kBEGGATzB1Q4",
        "colab_type": "code",
        "colab": {}
      },
      "source": [
        "def normal_rand_tensor(*dimensions):\n",
        "    \"\"\"Allow create a tensor with specified dimensions \n",
        "    and random values bethween -1 and 1.\n",
        "    \n",
        "    Examples: \n",
        "        - normal_rand_tensor(2): Create a two elements array. \n",
        "        - normal_rand_tensor(2, 2): Create (2, 2) matrix.\n",
        "        - normal_rand_tensor(2, 2, 2): Create (2, 2, 3) tensor.\n",
        "        - etc...\n",
        "    \"\"\"\n",
        "    return np.random.rand(*dimensions) * 2 - 1"
      ],
      "execution_count": 0,
      "outputs": []
    },
    {
      "cell_type": "code",
      "metadata": {
        "id": "kK2s-TZSrmun",
        "colab_type": "code",
        "colab": {}
      },
      "source": [
        "class TrainValidationLossPlotter:\n",
        "    @staticmethod\n",
        "    def plot(summary):\n",
        "        plt.grid()\n",
        "        plt.plot(summary.epochs, summary.train_losses, 'b')\n",
        "        plt.plot(summary.epochs, summary.val_losses, 'g')\n",
        "        plt.xlabel('Epoch')\n",
        "        plt.ylabel('Loss')\n",
        "        plt.show()\n"
      ],
      "execution_count": 0,
      "outputs": []
    },
    {
      "cell_type": "code",
      "metadata": {
        "id": "7SXJBTLQmFv7",
        "colab_type": "code",
        "colab": {}
      },
      "source": [
        "class TrainSummary:\n",
        "    def __init__(self):\n",
        "        self.epochs = []\n",
        "        self.train_losses = []\n",
        "        self.val_losses = []\n",
        "        self.rows = []\n",
        "\n",
        "    def add(self, epoch, train_loss, val_loss):\n",
        "        self.epochs.append(epoch)\n",
        "        self.train_losses.append(train_loss)\n",
        "        self.val_losses.append(val_loss)\n",
        "        self.rows.append((epoch, train_loss, val_loss))\n",
        "\n",
        "    def show(self):\n",
        "        return pd.DataFrame(self.rows, columns=['Epoch', 'Train Loss', 'Validation Loss'])\n"
      ],
      "execution_count": 0,
      "outputs": []
    },
    {
      "cell_type": "markdown",
      "metadata": {
        "id": "Iu1ZR7x42lhL",
        "colab_type": "text"
      },
      "source": [
        "## 2. Create dataset"
      ]
    },
    {
      "cell_type": "code",
      "metadata": {
        "id": "FdXLoTU62kap",
        "colab_type": "code",
        "colab": {}
      },
      "source": [
        "class CirclesDataset:\n",
        "    def __init__(self, samples_count, factor, noise, shuffle=True):\n",
        "        self.X, y = make_circles(\n",
        "            n_samples=samples_count, \n",
        "            factor=factor,\n",
        "            noise=noise\n",
        "        )\n",
        "        # Change self.labels shape from (labels_count, ) to (labels_count, 1)..\n",
        "        self.y = np.reshape(y, (y.shape[0], 1))\n",
        "\n",
        "    def train_test(self, test_size, shuffle=True):\n",
        "        return train_test_split(self.X, self.y, test_size=test_size, shuffle=shuffle)\n",
        "\n",
        "    def plot(self): DatasetPlotter(self).plot()"
      ],
      "execution_count": 0,
      "outputs": []
    },
    {
      "cell_type": "code",
      "metadata": {
        "id": "OBPcC0nl8IQR",
        "colab_type": "code",
        "outputId": "cc4a2a0a-798b-432a-cdc7-5217829ad8de",
        "colab": {
          "base_uri": "https://localhost:8080/",
          "height": 265
        }
      },
      "source": [
        "dataset = CirclesDataset(\n",
        "    samples_count=500, \n",
        "    factor=0.5, \n",
        "    noise=0.05, \n",
        "    shuffle=True\n",
        ")\n",
        "dataset.plot()"
      ],
      "execution_count": 808,
      "outputs": [
        {
          "output_type": "display_data",
          "data": {
            "image/png": "[encoded data removed]",
            "text/plain": [
              "<Figure size 432x288 with 1 Axes>"
            ]
          },
          "metadata": {
            "tags": [],
            "needs_background": "light"
          }
        }
      ]
    },
    {
      "cell_type": "markdown",
      "metadata": {
        "id": "_66SDv5tRJW1",
        "colab_type": "text"
      },
      "source": [
        "## 3. Activation functions"
      ]
    },
    {
      "cell_type": "code",
      "metadata": {
        "id": "BHFw2mZMq219",
        "colab_type": "code",
        "colab": {}
      },
      "source": [
        "from abc import ABCMeta, abstractmethod\n",
        "\n",
        "# Abstract Class\n",
        "class Function(metaclass=ABCMeta):\n",
        "    @abstractmethod\n",
        "    def compute(self, x): pass\n",
        "\n",
        "    def derivate(self): return None\n",
        "    \n",
        "    def name(self): return self.__class__.__name__\n",
        "    \n",
        "    def plot(self, x_values): FunctionPlotter(self).plot(x_values)"
      ],
      "execution_count": 0,
      "outputs": []
    },
    {
      "cell_type": "code",
      "metadata": {
        "id": "Qsj8ptKFCcBu",
        "colab_type": "code",
        "colab": {}
      },
      "source": [
        "class SigmoideFunction(Function):\n",
        "    def compute(self, x): return 1 / (1 + np.e ** (-x))\n",
        "    def derivate(self): return SigmoideDerivateFunction()\n",
        "\n",
        "class SigmoideDerivateFunction(Function):\n",
        "    def compute(self, x): return x * (1 -x)"
      ],
      "execution_count": 0,
      "outputs": []
    },
    {
      "cell_type": "code",
      "metadata": {
        "id": "GxJw3szVOtEd",
        "colab_type": "code",
        "colab": {}
      },
      "source": [
        "class RELUFunction(Function):\n",
        "    def compute(self, x): return np.maximum(0, x)\n",
        "    def derivate(self): return RELUDerivateFunction()\n",
        "\n",
        "class RELUDerivateFunction(Function):\n",
        "    def compute(self, x): return 1 if x == 1 else 0"
      ],
      "execution_count": 0,
      "outputs": []
    },
    {
      "cell_type": "code",
      "metadata": {
        "id": "23M2E7X1QwKd",
        "colab_type": "code",
        "outputId": "497af414-f946-47ed-bb84-e64dd42cb85f",
        "colab": {
          "base_uri": "https://localhost:8080/",
          "height": 545
        }
      },
      "source": [
        "SigmoideFunction().plot(x_values=np.linspace(-5, 5, 100))\n",
        "RELUFunction().plot(x_values=np.linspace(-5, 5, 100))"
      ],
      "execution_count": 812,
      "outputs": [
        {
          "output_type": "display_data",
          "data": {
            "image/png": "[encoded data removed]",
            "text/plain": [
              "<Figure size 432x288 with 1 Axes>"
            ]
          },
          "metadata": {
            "tags": [],
            "needs_background": "light"
          }
        },
        {
          "output_type": "display_data",
          "data": {
            "image/png": "[encoded data removed]",
            "text/plain": [
              "<Figure size 432x288 with 1 Axes>"
            ]
          },
          "metadata": {
            "tags": [],
            "needs_background": "light"
          }
        }
      ]
    },
    {
      "cell_type": "markdown",
      "metadata": {
        "id": "lfLsNC2yROnW",
        "colab_type": "text"
      },
      "source": [
        "## 4. Neural network Layers"
      ]
    },
    {
      "cell_type": "code",
      "metadata": {
        "id": "-nw77NbdKzLZ",
        "colab_type": "code",
        "colab": {}
      },
      "source": [
        "class LayerOutput:\n",
        "    def __init__(self, weighted_sum, activation):\n",
        "       self.weighted_sum = weighted_sum\n",
        "       self.activation = activation"
      ],
      "execution_count": 0,
      "outputs": []
    },
    {
      "cell_type": "code",
      "metadata": {
        "id": "X000XkzpK1EL",
        "colab_type": "code",
        "colab": {}
      },
      "source": [
        "class DenseLayer:\n",
        "    def __init__(self, inputs, neurons, act_fn):\n",
        "        self.inputs = inputs\n",
        "        self.neurons = neurons\n",
        "        self.act_fn = act_fn\n",
        "        self.biases = normal_rand_tensor(1, neurons)\n",
        "        self.W = normal_rand_tensor(inputs, neurons)\n",
        "\n",
        "    def name(self): return 'Dense'\n",
        "\n",
        "    def compute(self, inputs):\n",
        "        weighted_sum = inputs @ self.W + self.biases\n",
        "        activation = self.act_fn.compute(weighted_sum)\n",
        "        return LayerOutput(weighted_sum, activation) "
      ],
      "execution_count": 0,
      "outputs": []
    },
    {
      "cell_type": "markdown",
      "metadata": {
        "id": "QERzaGzlLK8h",
        "colab_type": "text"
      },
      "source": [
        "## 5. Neural network builder"
      ]
    },
    {
      "cell_type": "code",
      "metadata": {
        "id": "AVSm3nrc7bjq",
        "colab_type": "code",
        "colab": {}
      },
      "source": [
        "class NetworkBuilder:\n",
        "    def __init__(self): self.__layers = []\n",
        "    \n",
        "    def build(self): return Network(self.__layers)\n",
        "\n",
        "    def resolve_inputs(self, default_inputs): \n",
        "        return self.__layers[-1].neurons if len(self.__layers) > 0 else default_inputs\n",
        "\n",
        "    def dense(self, activation, neurons, inputs=-1):\n",
        "        inputs = self.resolve_inputs(inputs)\n",
        "        layer = DenseLayer(inputs, neurons, activation)\n",
        "        self.__layers.append(layer)\n",
        "        return self\n",
        "\n",
        "    def sigm_dense(self, neurons, inputs=-1): \n",
        "        self.dense(SigmoideFunction(), neurons, inputs)\n",
        "        return self\n",
        "\n",
        "    def relu_dense(self, neurons, inputs=-1): \n",
        "        self.dense(RELUFunction(), neurons, inputs)\n",
        "        return self"
      ],
      "execution_count": 0,
      "outputs": []
    },
    {
      "cell_type": "markdown",
      "metadata": {
        "id": "N-O8IIbCLNSi",
        "colab_type": "text"
      },
      "source": [
        "## 6. Neural network callbacks"
      ]
    },
    {
      "cell_type": "code",
      "metadata": {
        "id": "iPLxuNm3lYhG",
        "colab_type": "code",
        "colab": {}
      },
      "source": [
        "class TrainCallbackContext:\n",
        "    def __init__(self, loss_fn, network, Y, pbar):\n",
        "        self.summary = TrainSummary()\n",
        "        self.loss_fn = loss_fn\n",
        "        self.network = network\n",
        "        self.Y = Y\n",
        "        self.pbar = pbar\n",
        "\n",
        "    def update(self, epoch, train_y_pred):\n",
        "        self.epoch = epoch\n",
        "        self.train_y_pred = train_y_pred\n",
        "\n",
        "# Abstract Class\n",
        "class TrainCallback(metaclass=ABCMeta):\n",
        "    @abstractmethod\n",
        "    def perform(self, context):\n",
        "        pass\n",
        "    def result(self):\n",
        "        return None"
      ],
      "execution_count": 0,
      "outputs": []
    },
    {
      "cell_type": "code",
      "metadata": {
        "id": "z3e1NN-LyRjx",
        "colab_type": "code",
        "colab": {}
      },
      "source": [
        "class TrainSummaryCallback(TrainCallback):\n",
        "    def __init__(self, X_val, y_val):\n",
        "        self.__X_val = X_val\n",
        "        self.__y_val = y_val \n",
        "\n",
        "    def perform(self, ctx):\n",
        "        train_loss = ctx.loss_fn.compute(ctx.train_y_pred, ctx.Y)\n",
        "        ctx.pbar.desc = f'Loss: {train_loss}'\n",
        "\n",
        "        val_y_pred = ctx.network.predict(self.__X_val)\n",
        "        val_loss = np.mean(ctx.loss_fn.compute(val_y_pred, self.__y_val))\n",
        "\n",
        "        ctx.summary.add(ctx.epoch, train_loss, val_loss)"
      ],
      "execution_count": 0,
      "outputs": []
    },
    {
      "cell_type": "code",
      "metadata": {
        "id": "9iM6jhkQyUfw",
        "colab_type": "code",
        "colab": {}
      },
      "source": [
        "import time\n",
        "from IPython.display import clear_output\n",
        "\n",
        "class PlotLossesCallback(TrainCallback):\n",
        "    def __init__(self, interval=10, delay=0): \n",
        "        self.__interval = interval\n",
        "        self.__delay = delay\n",
        "    def perform(self, ctx):\n",
        "        if(ctx.epoch % self.__interval):\n",
        "            clear_output(wait=True)\n",
        "            TrainValidationLossPlotter.plot(ctx.summary)\n",
        "            time.sleep(self.__delay)"
      ],
      "execution_count": 0,
      "outputs": []
    },
    {
      "cell_type": "markdown",
      "metadata": {
        "id": "XQmKrMJ3tMgP",
        "colab_type": "text"
      },
      "source": [
        "## 7. Neural Network"
      ]
    },
    {
      "cell_type": "code",
      "metadata": {
        "id": "4TWN8hk-TVqL",
        "colab_type": "code",
        "colab": {}
      },
      "source": [
        "class Network:\n",
        "    def __init__(self, layers, debug=False):\n",
        "        self.layers = layers\n",
        "        self.debug = debug\n",
        "\n",
        "    @staticmethod\n",
        "    def builder(): return NetworkBuilder()\n",
        "    \n",
        "    def plot(self): return NetworkPlotter(self).plot() \n",
        "\n",
        "    def __forward_pass(self, X):\n",
        "        outputs = [LayerOutput(None, X)]\n",
        "        for layer in self.layers:\n",
        "            outputs.append(layer.compute(outputs[-1].activation))   \n",
        "        return outputs\n",
        "\n",
        "    def predict(self, X):\n",
        "        outputs = self.__forward_pass(X)\n",
        "        return outputs[-1].activation\n",
        "\n",
        "    def __backward_propagation(self, loss_fn, outputs, Y):\n",
        "        errors = [] # Or deltas\n",
        "        for layer_index in reversed(range(0, len(self.layers))):\n",
        "            layer = self.layers[layer_index]\n",
        "            act_value = outputs[layer_index+1].activation\n",
        "\n",
        "            if not errors: # Is last layer?\n",
        "                first_term = loss_fn.derivate().compute(act_value, Y)\n",
        "            else:\n",
        "                previous_layer = self.layers[layer_index + 1]\n",
        "                previous_error = errors[0]\n",
        "                first_term = previous_error @ previous_layer.W.T\n",
        "\n",
        "            second_term = layer.act_fn.derivate().compute(act_value)\n",
        "            errors.insert(0, first_term * second_term)\n",
        "        return errors \n",
        "    \n",
        "    def __gradient_desent_optimization(self, outputs, errors, lr):\n",
        "        if self.debug:\n",
        "            [print(f'OUTPUT ACT: [{i}]{o.activation.shape}') for i, o in enumerate(outputs)]\n",
        "            [print(f'ERROR: [{i}]{e.shape}') for i, e in enumerate(errors)]\n",
        "            [print(f'LAYER W: [{i}]{l.W.shape}') for i, l in enumerate(self.layers)]\n",
        "\n",
        "        for layer_index in reversed(range(0, len(self.layers))):\n",
        "            layer = self.layers[layer_index]    \n",
        "            layer_error = errors[layer_index]\n",
        "            layer_output = outputs[layer_index]\n",
        "\n",
        "            mean_layer_error = np.mean(layer_error, axis=0, keepdims=True)            \n",
        "            layer.biases = layer.biases - (mean_layer_error * lr)\n",
        "\n",
        "            delta = layer_output.activation.T @ layer_error\n",
        "            layer.W = layer.W - delta * lr\n",
        "\n",
        "    def train(self, X, Y, loss_fn, lr, epochs, callbacks = []):\n",
        "        with tqdm(range(1, epochs + 1), unit='Epoch') as pbar:\n",
        "            context = TrainCallbackContext(loss_fn, network, Y, pbar)\n",
        "\n",
        "            for epoch in range(1, epochs + 1):\n",
        "                outputs = self.__forward_pass(X)\n",
        "                errors = self.__backward_propagation(loss_fn, outputs, Y)\n",
        "                self.__gradient_desent_optimization(outputs, errors, lr)\n",
        "\n",
        "                context.update(epoch, outputs[-1].activation)\n",
        "                [c.perform(context) for c  in callbacks]\n",
        "                pbar.update()\n",
        "\n",
        "        return context.summary\n"
      ],
      "execution_count": 0,
      "outputs": []
    },
    {
      "cell_type": "markdown",
      "metadata": {
        "id": "2G4vl0v4f1eu",
        "colab_type": "text"
      },
      "source": [
        "## 8. Loss functions"
      ]
    },
    {
      "cell_type": "code",
      "metadata": {
        "id": "yMdNIbx2f4_1",
        "colab_type": "code",
        "colab": {}
      },
      "source": [
        "# Mean square error function\n",
        "\n",
        "class MSEFunction(Function):\n",
        "    def compute(self, Yp, Yr): return np.mean((Yp - Yr) ** 2)\n",
        "    def derivate(self): return MSEDerivateFunction()\n",
        "\n",
        "class MSEDerivateFunction(Function):\n",
        "    def compute(self, Yp, Yr): return Yp - Yr\n"
      ],
      "execution_count": 0,
      "outputs": []
    },
    {
      "cell_type": "markdown",
      "metadata": {
        "id": "qU2eIRkQRdku",
        "colab_type": "text"
      },
      "source": [
        "## 9. Build and train network"
      ]
    },
    {
      "cell_type": "code",
      "metadata": {
        "id": "PYBXdJwx5QsV",
        "colab_type": "code",
        "outputId": "05fe1a2e-da94-430d-b555-50600cf1e0f5",
        "colab": {
          "base_uri": "https://localhost:8080/",
          "height": 942
        }
      },
      "source": [
        "network = Network.builder() \\\n",
        "    .sigm_dense(neurons = 4, inputs = 2) \\\n",
        "    .sigm_dense(neurons = 8) \\\n",
        "    .sigm_dense(neurons = 4) \\\n",
        "    .sigm_dense(neurons = 1) \\\n",
        "    .build()\n",
        "\n",
        "network.plot()"
      ],
      "execution_count": 821,
      "outputs": [
        {
          "output_type": "execute_result",
          "data": {
            "text/html": [
              "<div>\n",
              "<style scoped>\n",
              "    .dataframe tbody tr th:only-of-type {\n",
              "        vertical-align: middle;\n",
              "    }\n",
              "\n",
              "    .dataframe tbody tr th {\n",
              "        vertical-align: top;\n",
              "    }\n",
              "\n",
              "    .dataframe thead th {\n",
              "        text-align: right;\n",
              "    }\n",
              "</style>\n",
              "<table border=\"1\" class=\"dataframe\">\n",
              "  <thead>\n",
              "    <tr style=\"text-align: right;\">\n",
              "      <th></th>\n",
              "      <th>Layer</th>\n",
              "      <th>Inputs</th>\n",
              "      <th>Neurons</th>\n",
              "      <th>Activation</th>\n",
              "    </tr>\n",
              "  </thead>\n",
              "  <tbody>\n",
              "    <tr>\n",
              "      <th>0</th>\n",
              "      <td>Dense</td>\n",
              "      <td>2</td>\n",
              "      <td>4</td>\n",
              "      <td>SigmoideFunction</td>\n",
              "    </tr>\n",
              "    <tr>\n",
              "      <th>1</th>\n",
              "      <td>Dense</td>\n",
              "      <td>4</td>\n",
              "      <td>8</td>\n",
              "      <td>SigmoideFunction</td>\n",
              "    </tr>\n",
              "    <tr>\n",
              "      <th>2</th>\n",
              "      <td>Dense</td>\n",
              "      <td>8</td>\n",
              "      <td>4</td>\n",
              "      <td>SigmoideFunction</td>\n",
              "    </tr>\n",
              "    <tr>\n",
              "      <th>3</th>\n",
              "      <td>Dense</td>\n",
              "      <td>4</td>\n",
              "      <td>1</td>\n",
              "      <td>SigmoideFunction</td>\n",
              "    </tr>\n",
              "  </tbody>\n",
              "</table>\n",
              "</div>"
            ],
            "text/plain": [
              "   Layer  Inputs  Neurons        Activation\n",
              "0  Dense       2        4  SigmoideFunction\n",
              "1  Dense       4        8  SigmoideFunction\n",
              "2  Dense       8        4  SigmoideFunction\n",
              "3  Dense       4        1  SigmoideFunction"
            ]
          },
          "metadata": {
            "tags": []
          },
          "execution_count": 821
        },
        {
          "output_type": "display_data",
          "data": {
            "image/png": "[encoded data removed]",
            "text/plain": [
              "<Figure size 1008x1008 with 1 Axes>"
            ]
          },
          "metadata": {
            "tags": [],
            "needs_background": "light"
          }
        }
      ]
    },
    {
      "cell_type": "code",
      "metadata": {
        "id": "rfLOxT9xhZzw",
        "colab_type": "code",
        "outputId": "ad5cf1d3-4f00-4cdb-ebff-aead47bc3371",
        "colab": {
          "base_uri": "https://localhost:8080/",
          "height": 686,
          "referenced_widgets": [
            "9f22261b24fd46f3b3eec44d4f79c1fc",
            "5dcf6af869b9456f8bf546dbd8536f31",
            "be8b5229216c49f7a1fb5b32ca1115c5",
            "26f7fcc73a674f09bdc11da87d1b92cf",
            "be7ebd8319724a4cab8b5fba11d7e0b3",
            "5b20ff67492e4819bdbbdd77bdd0e4a3",
            "41d1c33070504b7383215b98375282dc",
            "349eb3558dcd4a3bb6fd3d7b4f6bc93e"
          ]
        }
      },
      "source": [
        "X_train, X_val, y_train, y_val = dataset.train_test(0.3)\n",
        "\n",
        "summary = network.train(\n",
        "    X_train, \n",
        "    y_train,\n",
        "    lr=0.001,\n",
        "    epochs=100,\n",
        "    loss_fn=MSEFunction(),\n",
        "    callbacks=[\n",
        "        TrainSummaryCallback(X_val, y_val),\n",
        "        PlotLossesCallback(interval=10)\n",
        "    ]\n",
        ")\n",
        "\n",
        "summary.show()"
      ],
      "execution_count": 822,
      "outputs": [
        {
          "output_type": "display_data",
          "data": {
            "image/png": "[encoded data removed]",
            "text/plain": [
              "<Figure size 432x288 with 1 Axes>"
            ]
          },
          "metadata": {
            "tags": [],
            "needs_background": "light"
          }
        },
        {
          "output_type": "stream",
          "text": [
            "\n"
          ],
          "name": "stdout"
        },
        {
          "output_type": "execute_result",
          "data": {
            "text/html": [
              "<div>\n",
              "<style scoped>\n",
              "    .dataframe tbody tr th:only-of-type {\n",
              "        vertical-align: middle;\n",
              "    }\n",
              "\n",
              "    .dataframe tbody tr th {\n",
              "        vertical-align: top;\n",
              "    }\n",
              "\n",
              "    .dataframe thead th {\n",
              "        text-align: right;\n",
              "    }\n",
              "</style>\n",
              "<table border=\"1\" class=\"dataframe\">\n",
              "  <thead>\n",
              "    <tr style=\"text-align: right;\">\n",
              "      <th></th>\n",
              "      <th>Epoch</th>\n",
              "      <th>Train Loss</th>\n",
              "      <th>Validation Loss</th>\n",
              "    </tr>\n",
              "  </thead>\n",
              "  <tbody>\n",
              "    <tr>\n",
              "      <th>0</th>\n",
              "      <td>1</td>\n",
              "      <td>0.313909</td>\n",
              "      <td>0.312071</td>\n",
              "    </tr>\n",
              "    <tr>\n",
              "      <th>1</th>\n",
              "      <td>2</td>\n",
              "      <td>0.312106</td>\n",
              "      <td>0.310300</td>\n",
              "    </tr>\n",
              "    <tr>\n",
              "      <th>2</th>\n",
              "      <td>3</td>\n",
              "      <td>0.310334</td>\n",
              "      <td>0.308562</td>\n",
              "    </tr>\n",
              "    <tr>\n",
              "      <th>3</th>\n",
              "      <td>4</td>\n",
              "      <td>0.308596</td>\n",
              "      <td>0.306857</td>\n",
              "    </tr>\n",
              "    <tr>\n",
              "      <th>4</th>\n",
              "      <td>5</td>\n",
              "      <td>0.306892</td>\n",
              "      <td>0.305188</td>\n",
              "    </tr>\n",
              "    <tr>\n",
              "      <th>...</th>\n",
              "      <td>...</td>\n",
              "      <td>...</td>\n",
              "      <td>...</td>\n",
              "    </tr>\n",
              "    <tr>\n",
              "      <th>95</th>\n",
              "      <td>96</td>\n",
              "      <td>0.252503</td>\n",
              "      <td>0.252425</td>\n",
              "    </tr>\n",
              "    <tr>\n",
              "      <th>96</th>\n",
              "      <td>97</td>\n",
              "      <td>0.252418</td>\n",
              "      <td>0.252342</td>\n",
              "    </tr>\n",
              "    <tr>\n",
              "      <th>97</th>\n",
              "      <td>98</td>\n",
              "      <td>0.252335</td>\n",
              "      <td>0.252263</td>\n",
              "    </tr>\n",
              "    <tr>\n",
              "      <th>98</th>\n",
              "      <td>99</td>\n",
              "      <td>0.252255</td>\n",
              "      <td>0.252186</td>\n",
              "    </tr>\n",
              "    <tr>\n",
              "      <th>99</th>\n",
              "      <td>100</td>\n",
              "      <td>0.252178</td>\n",
              "      <td>0.252112</td>\n",
              "    </tr>\n",
              "  </tbody>\n",
              "</table>\n",
              "<p>100 rows × 3 columns</p>\n",
              "</div>"
            ],
            "text/plain": [
              "    Epoch  Train Loss  Validation Loss\n",
              "0       1    0.313909         0.312071\n",
              "1       2    0.312106         0.310300\n",
              "2       3    0.310334         0.308562\n",
              "3       4    0.308596         0.306857\n",
              "4       5    0.306892         0.305188\n",
              "..    ...         ...              ...\n",
              "95     96    0.252503         0.252425\n",
              "96     97    0.252418         0.252342\n",
              "97     98    0.252335         0.252263\n",
              "98     99    0.252255         0.252186\n",
              "99    100    0.252178         0.252112\n",
              "\n",
              "[100 rows x 3 columns]"
            ]
          },
          "metadata": {
            "tags": []
          },
          "execution_count": 822
        }
      ]
    }
  ]
}